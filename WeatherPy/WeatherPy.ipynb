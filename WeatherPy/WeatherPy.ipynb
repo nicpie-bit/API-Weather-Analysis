{
 "cells": [
  {
   "cell_type": "markdown",
   "metadata": {},
   "source": [
    "# WeatherPy\n",
    "----\n",
    "\n",
    "#### Note\n",
    "* Instructions have been included for each segment. You do not have to follow them exactly, but they are included to help you think through the steps."
   ]
  },
  {
   "cell_type": "markdown",
   "metadata": {},
   "source": [
    "3 Observable Trends:\n",
    "1. There is a strong correlation between where a city is located and its max temperature. This correaltion is stronger in the northern hemisphere than in the southern hemisphere. \n",
    "2. There is almost no correlation between a city's latitude and it's cloudiness. The southern hemisphere has a slightly higher r value but, not by much.\n",
    "3. Something that was surprised me was that there was not a huge relationship between a city's latitude and it's humidity. I thought cities closer to the equator would have more humidity but the graphs suggest otherwise. "
   ]
  },
  {
   "cell_type": "code",
   "execution_count": 3,
   "metadata": {
    "scrolled": true
   },
   "outputs": [],
   "source": [
    "# Dependencies and Setup\n",
    "import matplotlib.pyplot as plt\n",
    "import pandas as pd\n",
    "import numpy as np\n",
    "import requests\n",
    "import time\n",
    "from scipy.stats import linregress\n",
    "\n",
    "# Import API key\n",
    "from config import weather_api_key\n",
    "\n",
    "# Incorporated citipy to determine city based on latitude and longitude\n",
    "from citipy import citipy\n",
    "\n",
    "# Output File (CSV)\n",
    "output_data_file = \"output_data/cities.csv\"\n",
    "\n",
    "# Range of latitudes and longitudes\n",
    "lat_range = (-90, 90)\n",
    "lng_range = (-180, 180)"
   ]
  },
  {
   "cell_type": "markdown",
   "metadata": {},
   "source": [
    "## Generate Cities List"
   ]
  },
  {
   "cell_type": "code",
   "execution_count": 4,
   "metadata": {},
   "outputs": [
    {
     "data": {
      "text/plain": [
       "626"
      ]
     },
     "execution_count": 4,
     "metadata": {},
     "output_type": "execute_result"
    }
   ],
   "source": [
    "# List for holding lat_lngs and cities\n",
    "lat_lngs = []\n",
    "cities = []\n",
    "\n",
    "# Create a set of random lat and lng combinations\n",
    "lats = np.random.uniform(lat_range[0], lat_range[1], size=1500)\n",
    "lngs = np.random.uniform(lng_range[0], lng_range[1], size=1500)\n",
    "lat_lngs = zip(lats, lngs)\n",
    "\n",
    "# Identify nearest city for each lat, lng combination\n",
    "for lat_lng in lat_lngs:\n",
    "    city = citipy.nearest_city(lat_lng[0], lat_lng[1]).city_name\n",
    "    \n",
    "    # If the city is unique, then add it to a our cities list\n",
    "    if city not in cities:\n",
    "        cities.append(city)\n",
    "\n",
    "# Print the city count to confirm sufficient count\n",
    "len(cities)"
   ]
  },
  {
   "cell_type": "markdown",
   "metadata": {},
   "source": [
    "### Perform API Calls\n",
    "* Perform a weather check on each city using a series of successive API calls.\n",
    "* Include a print log of each city as it'sbeing processed (with the city number and city name).\n"
   ]
  },
  {
   "cell_type": "code",
   "execution_count": 5,
   "metadata": {
    "scrolled": true
   },
   "outputs": [
    {
     "name": "stdout",
     "output_type": "stream",
     "text": [
      "Beginning Data Retrieval \n",
      " -----------------------\n",
      "Processing Record 1 of Set 1 | sisimiut\n",
      "Processing Record 2 of Set 1 | provideniya\n",
      "Processing Record 3 of Set 1 | mataura\n",
      "Processing Record 4 of Set 1 | abnub\n",
      "Processing Record 5 of Set 1 | qaanaaq\n",
      "Processing Record 6 of Set 1 | bluff\n",
      "Processing Record 7 of Set 1 | tayzhina\n",
      "Processing Record 8 of Set 1 | algiers\n",
      "Processing Record 9 of Set 1 | vaini\n",
      "Processing Record 10 of Set 1 | dakar\n",
      "Processing Record 11 of Set 1 | punta arenas\n",
      "Processing Record 12 of Set 1 | vaitape\n",
      "Processing Record 13 of Set 1 | victoria\n",
      "Processing Record 14 of Set 1 | hithadhoo\n",
      "Processing Record 15 of Set 1 | portland\n",
      "Processing Record 16 of Set 1 | waingapu\n",
      "Processing Record 17 of Set 1 | atuona\n",
      "Processing Record 18 of Set 1 | ushuaia\n",
      "Processing Record 19 of Set 1 | nikolskoye\n",
      "Processing Record 20 of Set 1 | biak\n",
      "Processing Record 21 of Set 1 | kapaa\n",
      "Processing Record 22 of Set 1 | gazanjyk\n",
      "Processing Record 23 of Set 1 | east london\n",
      "Processing Record 24 of Set 1 | hermanus\n",
      "Processing Record 25 of Set 1 | pauini\n",
      "Processing Record 26 of Set 1 | rikitea\n",
      "Processing Record 27 of Set 1 | attawapiskat\n",
      "City not found. Skipping . . .\n",
      "Processing Record 27 of Set 1 | dikson\n",
      "Processing Record 28 of Set 1 | puerto ayora\n",
      "Processing Record 29 of Set 1 | torbay\n",
      "Processing Record 30 of Set 1 | dubbo\n",
      "Processing Record 31 of Set 1 | adrar\n",
      "Processing Record 32 of Set 1 | tiznit\n",
      "Processing Record 33 of Set 1 | vangaindrano\n",
      "Processing Record 34 of Set 1 | maymyo\n",
      "Processing Record 35 of Set 1 | pevek\n",
      "Processing Record 36 of Set 1 | narsaq\n",
      "Processing Record 37 of Set 1 | kadykchan\n",
      "City not found. Skipping . . .\n",
      "Processing Record 37 of Set 1 | ballina\n",
      "Processing Record 38 of Set 1 | sulangan\n",
      "Processing Record 39 of Set 1 | busselton\n",
      "Processing Record 40 of Set 1 | zhanatas\n",
      "City not found. Skipping . . .\n",
      "Processing Record 40 of Set 1 | natal\n",
      "Processing Record 41 of Set 1 | gillette\n",
      "Processing Record 42 of Set 1 | cidreira\n",
      "Processing Record 43 of Set 1 | richards bay\n",
      "Processing Record 44 of Set 1 | severo-kurilsk\n",
      "Processing Record 45 of Set 1 | albany\n",
      "Processing Record 46 of Set 1 | tumannyy\n",
      "City not found. Skipping . . .\n",
      "Processing Record 46 of Set 1 | sao filipe\n",
      "Processing Record 47 of Set 1 | shenjiamen\n",
      "Processing Record 48 of Set 1 | ola\n",
      "Processing Record 49 of Set 1 | jamestown\n",
      "Processing Record 50 of Set 1 | butaritari\n",
      "Processing Record 1 of Set 2 | kiunga\n",
      "Processing Record 2 of Set 2 | velsk\n",
      "Processing Record 3 of Set 2 | talnakh\n",
      "Processing Record 4 of Set 2 | meulaboh\n",
      "Processing Record 5 of Set 2 | port elizabeth\n",
      "Processing Record 6 of Set 2 | bredasdorp\n",
      "Processing Record 7 of Set 2 | gambela\n",
      "Processing Record 8 of Set 2 | miedzychod\n",
      "Processing Record 9 of Set 2 | coronado\n",
      "Processing Record 10 of Set 2 | saint-philippe\n",
      "Processing Record 11 of Set 2 | saint-augustin\n",
      "Processing Record 12 of Set 2 | kavieng\n",
      "Processing Record 13 of Set 2 | cherskiy\n",
      "Processing Record 14 of Set 2 | port lincoln\n",
      "Processing Record 15 of Set 2 | sorvag\n",
      "City not found. Skipping . . .\n",
      "Processing Record 15 of Set 2 | tavricheskoye\n",
      "Processing Record 16 of Set 2 | comodoro rivadavia\n",
      "Processing Record 17 of Set 2 | kaeo\n",
      "Processing Record 18 of Set 2 | port alfred\n",
      "Processing Record 19 of Set 2 | georgetown\n",
      "Processing Record 20 of Set 2 | omsukchan\n",
      "Processing Record 21 of Set 2 | suclayin\n",
      "Processing Record 22 of Set 2 | barentsburg\n",
      "City not found. Skipping . . .\n",
      "Processing Record 22 of Set 2 | tsihombe\n",
      "City not found. Skipping . . .\n",
      "Processing Record 22 of Set 2 | kanigoro\n",
      "Processing Record 23 of Set 2 | hilo\n",
      "Processing Record 24 of Set 2 | iqaluit\n",
      "Processing Record 25 of Set 2 | mackay\n",
      "Processing Record 26 of Set 2 | nome\n",
      "Processing Record 27 of Set 2 | bambous virieux\n",
      "Processing Record 28 of Set 2 | palmer\n",
      "Processing Record 29 of Set 2 | louisbourg\n",
      "City not found. Skipping . . .\n",
      "Processing Record 29 of Set 2 | valdosta\n",
      "Processing Record 30 of Set 2 | saint george\n",
      "Processing Record 31 of Set 2 | grand gaube\n",
      "Processing Record 32 of Set 2 | zamora\n",
      "Processing Record 33 of Set 2 | chokurdakh\n",
      "Processing Record 34 of Set 2 | wucheng\n",
      "Processing Record 35 of Set 2 | rungata\n",
      "City not found. Skipping . . .\n",
      "Processing Record 35 of Set 2 | lolua\n",
      "City not found. Skipping . . .\n",
      "Processing Record 35 of Set 2 | bethel\n",
      "Processing Record 36 of Set 2 | ksenyevka\n",
      "City not found. Skipping . . .\n",
      "Processing Record 36 of Set 2 | yellowknife\n",
      "Processing Record 37 of Set 2 | sapouy\n",
      "Processing Record 38 of Set 2 | cape town\n",
      "Processing Record 39 of Set 2 | virginia beach\n",
      "Processing Record 40 of Set 2 | vaitupu\n",
      "City not found. Skipping . . .\n",
      "Processing Record 40 of Set 2 | skalistyy\n",
      "City not found. Skipping . . .\n",
      "Processing Record 40 of Set 2 | haines junction\n",
      "Processing Record 41 of Set 2 | barrow\n",
      "Processing Record 42 of Set 2 | upernavik\n",
      "Processing Record 43 of Set 2 | bambanglipuro\n",
      "Processing Record 44 of Set 2 | bhadasar\n",
      "Processing Record 45 of Set 2 | castro\n",
      "Processing Record 46 of Set 2 | jutai\n",
      "Processing Record 47 of Set 2 | atchison\n",
      "Processing Record 48 of Set 2 | mahebourg\n",
      "Processing Record 49 of Set 2 | boa vista\n",
      "Processing Record 50 of Set 2 | zalantun\n",
      "Processing Record 1 of Set 3 | ponnani\n",
      "Processing Record 2 of Set 3 | moville\n",
      "Processing Record 3 of Set 3 | port hedland\n",
      "Processing Record 4 of Set 3 | fairbanks\n",
      "Processing Record 5 of Set 3 | raudeberg\n",
      "Processing Record 6 of Set 3 | ribeira grande\n",
      "Processing Record 7 of Set 3 | provost\n",
      "Processing Record 8 of Set 3 | tiksi\n",
      "Processing Record 9 of Set 3 | harper\n",
      "Processing Record 10 of Set 3 | pisco\n",
      "Processing Record 11 of Set 3 | nuuk\n",
      "Processing Record 12 of Set 3 | daru\n",
      "Processing Record 13 of Set 3 | morondava\n",
      "Processing Record 14 of Set 3 | chimoio\n",
      "Processing Record 15 of Set 3 | tyukhtet\n",
      "Processing Record 16 of Set 3 | esperance\n",
      "Processing Record 17 of Set 3 | muros\n",
      "Processing Record 18 of Set 3 | belushya guba\n",
      "City not found. Skipping . . .\n",
      "Processing Record 18 of Set 3 | karamea\n",
      "City not found. Skipping . . .\n",
      "Processing Record 18 of Set 3 | yellamanchili\n",
      "City not found. Skipping . . .\n",
      "Processing Record 18 of Set 3 | arraial do cabo\n",
      "Processing Record 19 of Set 3 | nemuro\n",
      "Processing Record 20 of Set 3 | tessalit\n",
      "Processing Record 21 of Set 3 | hofn\n",
      "Processing Record 22 of Set 3 | komsomolskiy\n",
      "Processing Record 23 of Set 3 | bengkulu\n",
      "Processing Record 24 of Set 3 | narathiwat\n",
      "Processing Record 25 of Set 3 | lagoa\n",
      "Processing Record 26 of Set 3 | kutum\n",
      "Processing Record 27 of Set 3 | saldanha\n",
      "Processing Record 28 of Set 3 | tabiauea\n",
      "City not found. Skipping . . .\n",
      "Processing Record 28 of Set 3 | hamilton\n",
      "Processing Record 29 of Set 3 | pangody\n",
      "Processing Record 30 of Set 3 | namatanai\n",
      "Processing Record 31 of Set 3 | rock springs\n",
      "Processing Record 32 of Set 3 | hobart\n",
      "Processing Record 33 of Set 3 | port-gentil\n",
      "Processing Record 34 of Set 3 | altamira\n",
      "Processing Record 35 of Set 3 | kodiak\n",
      "Processing Record 36 of Set 3 | visby\n",
      "Processing Record 37 of Set 3 | khatanga\n",
      "Processing Record 38 of Set 3 | kamenskoye\n",
      "City not found. Skipping . . .\n",
      "Processing Record 38 of Set 3 | aklavik\n",
      "Processing Record 39 of Set 3 | tonekabon\n",
      "Processing Record 40 of Set 3 | ivanovka\n",
      "Processing Record 41 of Set 3 | avarua\n",
      "Processing Record 42 of Set 3 | nouadhibou\n",
      "Processing Record 43 of Set 3 | killybegs\n",
      "Processing Record 44 of Set 3 | kimbe\n",
      "Processing Record 45 of Set 3 | huarmey\n",
      "Processing Record 46 of Set 3 | itaituba\n",
      "Processing Record 47 of Set 3 | thompson\n",
      "Processing Record 48 of Set 3 | daugavpils\n",
      "Processing Record 49 of Set 3 | sistranda\n",
      "Processing Record 50 of Set 3 | pochutla\n",
      "Processing Record 1 of Set 4 | zapolyarnyy\n",
      "Processing Record 2 of Set 4 | lebu\n",
      "Processing Record 3 of Set 4 | taolanaro\n",
      "City not found. Skipping . . .\n",
      "Processing Record 3 of Set 4 | norilsk\n",
      "Processing Record 4 of Set 4 | san patricio\n",
      "Processing Record 5 of Set 4 | loreto\n",
      "Processing Record 6 of Set 4 | acapulco\n",
      "Processing Record 7 of Set 4 | adre\n",
      "Processing Record 8 of Set 4 | irtyshskiy\n",
      "Processing Record 9 of Set 4 | gurh\n",
      "Processing Record 10 of Set 4 | lasa\n",
      "Processing Record 11 of Set 4 | airai\n",
      "Processing Record 12 of Set 4 | new norfolk\n",
      "Processing Record 13 of Set 4 | enzan\n",
      "Processing Record 14 of Set 4 | sobolevo\n",
      "Processing Record 15 of Set 4 | srednekolymsk\n",
      "Processing Record 16 of Set 4 | divnoye\n"
     ]
    },
    {
     "name": "stdout",
     "output_type": "stream",
     "text": [
      "Processing Record 17 of Set 4 | tuktoyaktuk\n",
      "Processing Record 18 of Set 4 | mezen\n",
      "Processing Record 19 of Set 4 | bad aussee\n",
      "Processing Record 20 of Set 4 | saint-pierre\n",
      "Processing Record 21 of Set 4 | omboue\n",
      "Processing Record 22 of Set 4 | belmonte\n",
      "Processing Record 23 of Set 4 | dumai\n",
      "Processing Record 24 of Set 4 | ilhabela\n",
      "Processing Record 25 of Set 4 | half moon bay\n",
      "Processing Record 26 of Set 4 | zaysan\n",
      "Processing Record 27 of Set 4 | narrabri\n",
      "Processing Record 28 of Set 4 | vostok\n",
      "Processing Record 29 of Set 4 | mount isa\n",
      "Processing Record 30 of Set 4 | ust-kuyga\n",
      "Processing Record 31 of Set 4 | tharad\n",
      "Processing Record 32 of Set 4 | vila velha\n",
      "Processing Record 33 of Set 4 | athens\n",
      "Processing Record 34 of Set 4 | chuy\n",
      "Processing Record 35 of Set 4 | moose factory\n",
      "Processing Record 36 of Set 4 | umm durman\n",
      "City not found. Skipping . . .\n",
      "Processing Record 36 of Set 4 | andenes\n",
      "Processing Record 37 of Set 4 | nampula\n",
      "Processing Record 38 of Set 4 | nizhneyansk\n",
      "City not found. Skipping . . .\n",
      "Processing Record 38 of Set 4 | limon\n",
      "Processing Record 39 of Set 4 | padang\n",
      "Processing Record 40 of Set 4 | wageningen\n",
      "Processing Record 41 of Set 4 | carnarvon\n",
      "Processing Record 42 of Set 4 | quthing\n",
      "Processing Record 43 of Set 4 | silveira\n",
      "Processing Record 44 of Set 4 | cap malheureux\n",
      "Processing Record 45 of Set 4 | nhulunbuy\n",
      "Processing Record 46 of Set 4 | petropavlovsk-kamchatskiy\n",
      "Processing Record 47 of Set 4 | black river\n",
      "Processing Record 48 of Set 4 | takoradi\n",
      "Processing Record 49 of Set 4 | awbari\n",
      "Processing Record 50 of Set 4 | fayaoue\n",
      "Processing Record 1 of Set 5 | little current\n",
      "Processing Record 2 of Set 5 | matara\n",
      "Processing Record 3 of Set 5 | kahului\n",
      "Processing Record 4 of Set 5 | dunedin\n",
      "Processing Record 5 of Set 5 | sao felix do xingu\n",
      "Processing Record 6 of Set 5 | tagusao\n",
      "Processing Record 7 of Set 5 | kavaratti\n",
      "Processing Record 8 of Set 5 | yuzhno-sukhokumsk\n",
      "Processing Record 9 of Set 5 | ilulissat\n",
      "Processing Record 10 of Set 5 | lorengau\n",
      "Processing Record 11 of Set 5 | sur\n",
      "Processing Record 12 of Set 5 | caravelas\n",
      "Processing Record 13 of Set 5 | nantucket\n",
      "Processing Record 14 of Set 5 | saskylakh\n",
      "Processing Record 15 of Set 5 | mokhsogollokh\n",
      "Processing Record 16 of Set 5 | etchoropo\n",
      "Processing Record 17 of Set 5 | inndyr\n",
      "Processing Record 18 of Set 5 | cao bang\n",
      "Processing Record 19 of Set 5 | norman wells\n",
      "Processing Record 20 of Set 5 | paulo ramos\n",
      "Processing Record 21 of Set 5 | cabo san lucas\n",
      "Processing Record 22 of Set 5 | linjiang\n",
      "Processing Record 23 of Set 5 | kasongo-lunda\n",
      "Processing Record 24 of Set 5 | doaba\n",
      "Processing Record 25 of Set 5 | amderma\n",
      "City not found. Skipping . . .\n",
      "Processing Record 25 of Set 5 | gat\n",
      "Processing Record 26 of Set 5 | taburi\n",
      "City not found. Skipping . . .\n",
      "Processing Record 26 of Set 5 | chicama\n",
      "Processing Record 27 of Set 5 | tukums\n",
      "Processing Record 28 of Set 5 | kungurtug\n",
      "Processing Record 29 of Set 5 | tasiilaq\n",
      "Processing Record 30 of Set 5 | mogadishu\n",
      "Processing Record 31 of Set 5 | vardo\n",
      "Processing Record 32 of Set 5 | jeremie\n",
      "Processing Record 33 of Set 5 | cockburn harbour\n",
      "City not found. Skipping . . .\n",
      "Processing Record 33 of Set 5 | faanui\n",
      "Processing Record 34 of Set 5 | sarti\n",
      "Processing Record 35 of Set 5 | da-an\n",
      "City not found. Skipping . . .\n",
      "Processing Record 35 of Set 5 | cayenne\n",
      "Processing Record 36 of Set 5 | mount gambier\n",
      "Processing Record 37 of Set 5 | diffa\n",
      "Processing Record 38 of Set 5 | port blair\n",
      "Processing Record 39 of Set 5 | la ronge\n",
      "Processing Record 40 of Set 5 | methoni\n",
      "Processing Record 41 of Set 5 | rocha\n",
      "Processing Record 42 of Set 5 | coquimbo\n",
      "Processing Record 43 of Set 5 | gasa\n",
      "Processing Record 44 of Set 5 | rio gallegos\n",
      "Processing Record 45 of Set 5 | marcona\n",
      "City not found. Skipping . . .\n",
      "Processing Record 45 of Set 5 | grand river south east\n",
      "City not found. Skipping . . .\n",
      "Processing Record 45 of Set 5 | santa rosa\n",
      "Processing Record 46 of Set 5 | poum\n",
      "Processing Record 47 of Set 5 | xichang\n",
      "Processing Record 48 of Set 5 | okhotsk\n",
      "Processing Record 49 of Set 5 | rawson\n",
      "Processing Record 50 of Set 5 | muisne\n",
      "Processing Record 1 of Set 6 | ostrovnoy\n",
      "Processing Record 2 of Set 6 | tarut\n",
      "Processing Record 3 of Set 6 | rumuruti\n",
      "Processing Record 4 of Set 6 | ayr\n",
      "Processing Record 5 of Set 6 | taoudenni\n",
      "Processing Record 6 of Set 6 | evensk\n",
      "Processing Record 7 of Set 6 | rognan\n",
      "Processing Record 8 of Set 6 | roswell\n",
      "Processing Record 9 of Set 6 | erenhot\n",
      "Processing Record 10 of Set 6 | turukhansk\n",
      "Processing Record 11 of Set 6 | shchelyayur\n",
      "City not found. Skipping . . .\n",
      "Processing Record 11 of Set 6 | tawkar\n",
      "City not found. Skipping . . .\n",
      "Processing Record 11 of Set 6 | laguna\n",
      "Processing Record 12 of Set 6 | inhambane\n",
      "Processing Record 13 of Set 6 | batagay-alyta\n",
      "Processing Record 14 of Set 6 | college\n",
      "Processing Record 15 of Set 6 | te anau\n",
      "Processing Record 16 of Set 6 | turkistan\n",
      "Processing Record 17 of Set 6 | magistralnyy\n",
      "Processing Record 18 of Set 6 | manica\n",
      "Processing Record 19 of Set 6 | guaruja\n",
      "Processing Record 20 of Set 6 | libenge\n",
      "Processing Record 21 of Set 6 | kashi\n",
      "Processing Record 22 of Set 6 | leningradskiy\n",
      "Processing Record 23 of Set 6 | fortuna\n",
      "Processing Record 24 of Set 6 | amapa\n",
      "Processing Record 25 of Set 6 | morro bay\n",
      "Processing Record 26 of Set 6 | yulara\n",
      "Processing Record 27 of Set 6 | skibotn\n",
      "Processing Record 28 of Set 6 | kushmurun\n",
      "Processing Record 29 of Set 6 | porrentruy\n",
      "Processing Record 30 of Set 6 | mehamn\n",
      "Processing Record 31 of Set 6 | flin flon\n",
      "Processing Record 32 of Set 6 | clyde river\n",
      "Processing Record 33 of Set 6 | geraldton\n",
      "Processing Record 34 of Set 6 | kulhudhuffushi\n",
      "Processing Record 35 of Set 6 | warqla\n",
      "City not found. Skipping . . .\n",
      "Processing Record 35 of Set 6 | tura\n",
      "Processing Record 36 of Set 6 | bathsheba\n",
      "Processing Record 37 of Set 6 | nanortalik\n",
      "Processing Record 38 of Set 6 | esmeraldas\n",
      "Processing Record 39 of Set 6 | brae\n",
      "Processing Record 40 of Set 6 | klaksvik\n",
      "Processing Record 41 of Set 6 | mahenge\n",
      "Processing Record 42 of Set 6 | marzuq\n",
      "Processing Record 43 of Set 6 | chinsali\n",
      "Processing Record 44 of Set 6 | dzhebariki-khaya\n",
      "Processing Record 45 of Set 6 | bharatpur\n",
      "Processing Record 46 of Set 6 | denpasar\n",
      "Processing Record 47 of Set 6 | san isidro\n",
      "Processing Record 48 of Set 6 | yuzhno-yeniseyskiy\n",
      "City not found. Skipping . . .\n",
      "Processing Record 48 of Set 6 | bakel\n",
      "Processing Record 49 of Set 6 | kalmunai\n",
      "Processing Record 50 of Set 6 | mar del plata\n",
      "Processing Record 1 of Set 7 | illoqqortoormiut\n",
      "City not found. Skipping . . .\n",
      "Processing Record 1 of Set 7 | quatre cocos\n",
      "Processing Record 2 of Set 7 | othonoi\n",
      "City not found. Skipping . . .\n",
      "Processing Record 2 of Set 7 | giyani\n",
      "Processing Record 3 of Set 7 | oeiras\n",
      "Processing Record 4 of Set 7 | longyearbyen\n",
      "Processing Record 5 of Set 7 | atkinson\n",
      "Processing Record 6 of Set 7 | aflu\n",
      "City not found. Skipping . . .\n",
      "Processing Record 6 of Set 7 | san quintin\n",
      "Processing Record 7 of Set 7 | dabat\n",
      "Processing Record 8 of Set 7 | launceston\n",
      "Processing Record 9 of Set 7 | ampanihy\n",
      "Processing Record 10 of Set 7 | kuloy\n",
      "Processing Record 11 of Set 7 | hunza\n",
      "City not found. Skipping . . .\n",
      "Processing Record 11 of Set 7 | bogovarovo\n",
      "Processing Record 12 of Set 7 | grandview\n",
      "Processing Record 13 of Set 7 | porto santo\n",
      "Processing Record 14 of Set 7 | kirakira\n",
      "Processing Record 15 of Set 7 | ca mau\n",
      "Processing Record 16 of Set 7 | narasapur\n",
      "Processing Record 17 of Set 7 | central point\n",
      "Processing Record 18 of Set 7 | martapura\n",
      "Processing Record 19 of Set 7 | hobyo\n",
      "Processing Record 20 of Set 7 | krasnoselkup\n",
      "Processing Record 21 of Set 7 | altay\n",
      "Processing Record 22 of Set 7 | catamarca\n",
      "Processing Record 23 of Set 7 | morant bay\n",
      "Processing Record 24 of Set 7 | sudislavl\n",
      "Processing Record 25 of Set 7 | mbandaka\n",
      "Processing Record 26 of Set 7 | porosozero\n",
      "Processing Record 27 of Set 7 | srbac\n",
      "Processing Record 28 of Set 7 | nuoro\n",
      "Processing Record 29 of Set 7 | luderitz\n",
      "Processing Record 30 of Set 7 | zhezkazgan\n",
      "Processing Record 31 of Set 7 | marolambo\n",
      "Processing Record 32 of Set 7 | rawlins\n",
      "Processing Record 33 of Set 7 | vanimo\n",
      "Processing Record 34 of Set 7 | gazli\n",
      "Processing Record 35 of Set 7 | gamba\n",
      "Processing Record 36 of Set 7 | eureka\n",
      "Processing Record 37 of Set 7 | lavrentiya\n",
      "Processing Record 38 of Set 7 | douentza\n"
     ]
    },
    {
     "name": "stdout",
     "output_type": "stream",
     "text": [
      "Processing Record 39 of Set 7 | sapao\n",
      "City not found. Skipping . . .\n",
      "Processing Record 39 of Set 7 | pangnirtung\n",
      "Processing Record 40 of Set 7 | celendin\n",
      "Processing Record 41 of Set 7 | buraydah\n",
      "Processing Record 42 of Set 7 | shimoda\n",
      "Processing Record 43 of Set 7 | namibe\n",
      "Processing Record 44 of Set 7 | solovetskiy\n",
      "City not found. Skipping . . .\n",
      "Processing Record 44 of Set 7 | lazaro cardenas\n",
      "Processing Record 45 of Set 7 | bilara\n",
      "Processing Record 46 of Set 7 | amahai\n",
      "Processing Record 47 of Set 7 | furstenwalde\n",
      "Processing Record 48 of Set 7 | jacarei\n",
      "Processing Record 49 of Set 7 | sorland\n",
      "Processing Record 50 of Set 7 | roma\n",
      "Processing Record 1 of Set 8 | ardee\n",
      "Processing Record 2 of Set 8 | cascavel\n",
      "Processing Record 3 of Set 8 | hasaki\n",
      "Processing Record 4 of Set 8 | san cristobal\n",
      "Processing Record 5 of Set 8 | barbar\n",
      "City not found. Skipping . . .\n",
      "Processing Record 5 of Set 8 | gorontalo\n",
      "Processing Record 6 of Set 8 | asosa\n",
      "Processing Record 7 of Set 8 | troitskoye\n",
      "Processing Record 8 of Set 8 | san andres\n",
      "Processing Record 9 of Set 8 | olean\n",
      "Processing Record 10 of Set 8 | nioro\n",
      "Processing Record 11 of Set 8 | fare\n",
      "Processing Record 12 of Set 8 | rio grande\n",
      "Processing Record 13 of Set 8 | sitka\n",
      "Processing Record 14 of Set 8 | parrita\n",
      "Processing Record 15 of Set 8 | sorong\n",
      "Processing Record 16 of Set 8 | constitucion\n",
      "Processing Record 17 of Set 8 | foix\n",
      "Processing Record 18 of Set 8 | preobrazheniye\n",
      "Processing Record 19 of Set 8 | funtua\n",
      "Processing Record 20 of Set 8 | gavle\n",
      "Processing Record 21 of Set 8 | ponta do sol\n",
      "Processing Record 22 of Set 8 | manthani\n",
      "Processing Record 23 of Set 8 | ishigaki\n",
      "Processing Record 24 of Set 8 | odweyne\n",
      "Processing Record 25 of Set 8 | nabire\n",
      "Processing Record 26 of Set 8 | souillac\n",
      "Processing Record 27 of Set 8 | ambodifototra\n",
      "City not found. Skipping . . .\n",
      "Processing Record 27 of Set 8 | ondjiva\n",
      "Processing Record 28 of Set 8 | salalah\n",
      "Processing Record 29 of Set 8 | urumqi\n",
      "Processing Record 30 of Set 8 | touros\n",
      "Processing Record 31 of Set 8 | nizhniy kuranakh\n",
      "Processing Record 32 of Set 8 | zhigalovo\n",
      "Processing Record 33 of Set 8 | presidencia roque saenz pena\n",
      "Processing Record 34 of Set 8 | nichinan\n",
      "Processing Record 35 of Set 8 | mys shmidta\n",
      "City not found. Skipping . . .\n",
      "Processing Record 35 of Set 8 | mindelheim\n",
      "Processing Record 36 of Set 8 | linqiong\n",
      "Processing Record 37 of Set 8 | los llanos de aridane\n",
      "Processing Record 38 of Set 8 | mazatlan\n",
      "Processing Record 39 of Set 8 | huejucar\n",
      "Processing Record 40 of Set 8 | paamiut\n",
      "Processing Record 41 of Set 8 | swinford\n",
      "Processing Record 42 of Set 8 | sauda\n",
      "Processing Record 43 of Set 8 | banda aceh\n",
      "Processing Record 44 of Set 8 | yar-sale\n",
      "Processing Record 45 of Set 8 | mandera\n",
      "Processing Record 46 of Set 8 | katsuura\n",
      "Processing Record 47 of Set 8 | karratha\n",
      "Processing Record 48 of Set 8 | viedma\n",
      "Processing Record 49 of Set 8 | riyadh\n",
      "Processing Record 50 of Set 8 | hirson\n",
      "Processing Record 1 of Set 9 | kruisfontein\n",
      "Processing Record 2 of Set 9 | ivanava\n",
      "Processing Record 3 of Set 9 | gari\n",
      "Processing Record 4 of Set 9 | gaogou\n",
      "Processing Record 5 of Set 9 | batticaloa\n",
      "Processing Record 6 of Set 9 | linxia\n",
      "Processing Record 7 of Set 9 | ust-maya\n",
      "Processing Record 8 of Set 9 | codrington\n",
      "Processing Record 9 of Set 9 | havre-saint-pierre\n",
      "Processing Record 10 of Set 9 | koboldo\n",
      "City not found. Skipping . . .\n",
      "Processing Record 10 of Set 9 | carutapera\n",
      "Processing Record 11 of Set 9 | nkhotakota\n",
      "Processing Record 12 of Set 9 | guerrero negro\n",
      "Processing Record 13 of Set 9 | viransehir\n",
      "Processing Record 14 of Set 9 | barrhead\n",
      "Processing Record 15 of Set 9 | jinchengjiang\n",
      "City not found. Skipping . . .\n",
      "Processing Record 15 of Set 9 | keffi\n",
      "Processing Record 16 of Set 9 | smithers\n",
      "Processing Record 17 of Set 9 | muana\n",
      "Processing Record 18 of Set 9 | aykhal\n",
      "Processing Record 19 of Set 9 | rafai\n",
      "Processing Record 20 of Set 9 | karasburg\n",
      "Processing Record 21 of Set 9 | kozhva\n",
      "Processing Record 22 of Set 9 | doctor pedro p. pena\n",
      "City not found. Skipping . . .\n",
      "Processing Record 22 of Set 9 | wanning\n",
      "Processing Record 23 of Set 9 | bacuit\n",
      "City not found. Skipping . . .\n",
      "Processing Record 23 of Set 9 | kaitangata\n",
      "Processing Record 24 of Set 9 | adelaide\n",
      "Processing Record 25 of Set 9 | tongliao\n",
      "Processing Record 26 of Set 9 | jiamusi\n",
      "Processing Record 27 of Set 9 | port hardy\n",
      "Processing Record 28 of Set 9 | bilma\n",
      "Processing Record 29 of Set 9 | wembley\n",
      "Processing Record 30 of Set 9 | saleaula\n",
      "City not found. Skipping . . .\n",
      "Processing Record 30 of Set 9 | miles city\n",
      "Processing Record 31 of Set 9 | dingle\n",
      "Processing Record 32 of Set 9 | marasesti\n",
      "Processing Record 33 of Set 9 | simao\n",
      "Processing Record 34 of Set 9 | santa cruz\n",
      "Processing Record 35 of Set 9 | alvand\n",
      "Processing Record 36 of Set 9 | olga\n",
      "Processing Record 37 of Set 9 | paka\n",
      "Processing Record 38 of Set 9 | krems\n",
      "Processing Record 39 of Set 9 | broome\n",
      "Processing Record 40 of Set 9 | wajima\n",
      "Processing Record 41 of Set 9 | tuatapere\n",
      "Processing Record 42 of Set 9 | cartagena\n",
      "Processing Record 43 of Set 9 | kostino\n",
      "Processing Record 44 of Set 9 | tulsipur\n",
      "Processing Record 45 of Set 9 | conakry\n",
      "Processing Record 46 of Set 9 | enumclaw\n",
      "Processing Record 47 of Set 9 | sorkjosen\n",
      "Processing Record 48 of Set 9 | burgeo\n",
      "Processing Record 49 of Set 9 | henties bay\n",
      "Processing Record 50 of Set 9 | saint-francois\n",
      "Processing Record 1 of Set 10 | tautira\n",
      "Processing Record 2 of Set 10 | sterling\n",
      "Processing Record 3 of Set 10 | kembe\n",
      "Processing Record 4 of Set 10 | bage\n",
      "Processing Record 5 of Set 10 | kuche\n",
      "City not found. Skipping . . .\n",
      "Processing Record 5 of Set 10 | khorixas\n",
      "Processing Record 6 of Set 10 | rosario do sul\n",
      "Processing Record 7 of Set 10 | birin\n",
      "Processing Record 8 of Set 10 | bandarbeyla\n",
      "Processing Record 9 of Set 10 | walvis bay\n",
      "Processing Record 10 of Set 10 | cockburn town\n",
      "Processing Record 11 of Set 10 | santa fe\n",
      "Processing Record 12 of Set 10 | lumberton\n",
      "Processing Record 13 of Set 10 | payakumbuh\n",
      "Processing Record 14 of Set 10 | mananjary\n",
      "Processing Record 15 of Set 10 | ishioka\n",
      "Processing Record 16 of Set 10 | manakara\n",
      "Processing Record 17 of Set 10 | northam\n",
      "Processing Record 18 of Set 10 | paonta sahib\n",
      "Processing Record 19 of Set 10 | necochea\n",
      "Processing Record 20 of Set 10 | saint-georges\n",
      "Processing Record 21 of Set 10 | karkaralinsk\n",
      "City not found. Skipping . . .\n",
      "Processing Record 21 of Set 10 | yining\n",
      "Processing Record 22 of Set 10 | sao jose da coroa grande\n",
      "Processing Record 23 of Set 10 | sikeston\n",
      "Processing Record 24 of Set 10 | ambunti\n",
      "Processing Record 25 of Set 10 | mongu\n",
      "Processing Record 26 of Set 10 | dungarvan\n",
      "Processing Record 27 of Set 10 | mangrol\n",
      "Processing Record 28 of Set 10 | berlevag\n",
      "Processing Record 29 of Set 10 | sampit\n",
      "Processing Record 30 of Set 10 | lumut\n",
      "Processing Record 31 of Set 10 | masterton\n",
      "Processing Record 32 of Set 10 | les cayes\n",
      "Processing Record 33 of Set 10 | sao joao da barra\n",
      "Processing Record 34 of Set 10 | lerwick\n",
      "Processing Record 35 of Set 10 | north platte\n",
      "Processing Record 36 of Set 10 | mitu\n",
      "Processing Record 37 of Set 10 | pompeu\n",
      "Processing Record 38 of Set 10 | kieta\n",
      "Processing Record 39 of Set 10 | tolaga bay\n",
      "Processing Record 40 of Set 10 | melfi\n",
      "Processing Record 41 of Set 10 | dabhol\n",
      "Processing Record 42 of Set 10 | kargasok\n",
      "Processing Record 43 of Set 10 | ayan\n",
      "Processing Record 44 of Set 10 | samarai\n",
      "Processing Record 45 of Set 10 | pontianak\n",
      "Processing Record 46 of Set 10 | port macquarie\n",
      "Processing Record 47 of Set 10 | arvika\n",
      "Processing Record 48 of Set 10 | baykit\n",
      "Processing Record 49 of Set 10 | olafsvik\n",
      "Processing Record 50 of Set 10 | beringovskiy\n",
      "Processing Record 1 of Set 11 | hornepayne\n",
      "Processing Record 2 of Set 11 | initao\n",
      "Processing Record 3 of Set 11 | kangaatsiaq\n",
      "Processing Record 4 of Set 11 | alice springs\n",
      "Processing Record 5 of Set 11 | anadyr\n",
      "Processing Record 6 of Set 11 | benguela\n",
      "Processing Record 7 of Set 11 | sayville\n",
      "Processing Record 8 of Set 11 | bocaiuva\n",
      "Processing Record 9 of Set 11 | chegdomyn\n",
      "Processing Record 10 of Set 11 | margate\n",
      "Processing Record 11 of Set 11 | knysna\n",
      "Processing Record 12 of Set 11 | ofaqim\n",
      "Processing Record 13 of Set 11 | charters towers\n",
      "Processing Record 14 of Set 11 | vao\n",
      "Processing Record 15 of Set 11 | bac lieu\n"
     ]
    },
    {
     "name": "stdout",
     "output_type": "stream",
     "text": [
      "Processing Record 16 of Set 11 | mitsamiouli\n",
      "Processing Record 17 of Set 11 | vila franca do campo\n",
      "Processing Record 18 of Set 11 | newport\n",
      "Processing Record 19 of Set 11 | shimoni\n",
      "Processing Record 20 of Set 11 | staryy nadym\n",
      "Processing Record 21 of Set 11 | umzimvubu\n",
      "City not found. Skipping . . .\n",
      "Processing Record 21 of Set 11 | valley station\n",
      "Processing Record 22 of Set 11 | hohhot\n",
      "Processing Record 23 of Set 11 | karak\n",
      "Processing Record 24 of Set 11 | yamada\n",
      "Processing Record 25 of Set 11 | lianzhou\n",
      "Processing Record 26 of Set 11 | imbituba\n",
      "Processing Record 27 of Set 11 | suileng\n",
      "Processing Record 28 of Set 11 | colac\n",
      "Processing Record 29 of Set 11 | krishnarajasagara\n",
      "Processing Record 30 of Set 11 | tilichiki\n",
      "Processing Record 31 of Set 11 | russell\n",
      "Processing Record 32 of Set 11 | casper\n",
      "Processing Record 33 of Set 11 | opuwo\n",
      "Processing Record 34 of Set 11 | visakhapatnam\n",
      "Processing Record 35 of Set 11 | mayo\n",
      "Processing Record 36 of Set 11 | tarakan\n",
      "Processing Record 37 of Set 11 | rawannawi\n",
      "City not found. Skipping . . .\n",
      "Processing Record 37 of Set 11 | mega\n",
      "Processing Record 38 of Set 11 | labuhan\n",
      "Processing Record 39 of Set 11 | joao pessoa\n",
      "Processing Record 40 of Set 11 | whitehorse\n",
      "Processing Record 41 of Set 11 | hervey bay\n",
      "Processing Record 42 of Set 11 | dryden\n",
      "Processing Record 43 of Set 11 | yerbogachen\n",
      "Processing Record 44 of Set 11 | pundaguitan\n",
      "Processing Record 45 of Set 11 | yantzaza\n",
      "Processing Record 46 of Set 11 | galiwinku\n",
      "City not found. Skipping . . .\n",
      "Processing Record 46 of Set 11 | sunrise manor\n",
      "Processing Record 47 of Set 11 | faya\n",
      "Processing Record 48 of Set 11 | verkhnevilyuysk\n",
      "Processing Record 49 of Set 11 | acandi\n",
      "Processing Record 50 of Set 11 | tucumcari\n",
      "Processing Record 1 of Set 12 | ninghai\n",
      "Processing Record 2 of Set 12 | panaba\n",
      "Processing Record 3 of Set 12 | oussouye\n",
      "Processing Record 4 of Set 12 | osmena\n",
      "Processing Record 5 of Set 12 | svencioneliai\n",
      "Processing Record 6 of Set 12 | dioknisi\n",
      "Processing Record 7 of Set 12 | samusu\n",
      "City not found. Skipping . . .\n",
      "Processing Record 7 of Set 12 | nsanje\n",
      "Processing Record 8 of Set 12 | kitami\n",
      "Processing Record 9 of Set 12 | alofi\n",
      "Processing Record 10 of Set 12 | naze\n",
      "Processing Record 11 of Set 12 | pucallpa\n",
      "Processing Record 12 of Set 12 | ueda\n",
      "Processing Record 13 of Set 12 | westerly\n",
      "Processing Record 14 of Set 12 | marsh harbour\n",
      "Processing Record 15 of Set 12 | ixtapa\n",
      "Processing Record 16 of Set 12 | bubaque\n",
      "Processing Record 17 of Set 12 | la palma\n",
      "Processing Record 18 of Set 12 | ayia\n",
      "City not found. Skipping . . .\n",
      "Processing Record 18 of Set 12 | fort abbas\n",
      "Processing Record 19 of Set 12 | nguiu\n",
      "City not found. Skipping . . .\n",
      "Processing Record 19 of Set 12 | portage\n",
      "Processing Record 20 of Set 12 | maniitsoq\n",
      "Processing Record 21 of Set 12 | pallasovka\n",
      "Processing Record 22 of Set 12 | kupang\n",
      "Processing Record 23 of Set 12 | castro verde\n",
      " ---------------------------- \n",
      " Data Retrieval Complete \n",
      " ----------------------------\n"
     ]
    }
   ],
   "source": [
    "# Save config information.\n",
    "url = \"http://api.openweathermap.org/data/2.5/weather?\"\n",
    "units = \"imperial\"\n",
    "\n",
    "# Build partial query URL\n",
    "query_url = f\"{url}appid={weather_api_key}&units={units}&q=\"\n",
    "\n",
    "#Create lists for lat, temp (F), humidity(%), cloudiness(%), wind speed (mph)\n",
    "lat = []\n",
    "lng = []\n",
    "temp = []\n",
    "hum = []\n",
    "cloud = []\n",
    "wind = []\n",
    "country = []\n",
    "date = []\n",
    "\n",
    "count = 1\n",
    "sets = 1\n",
    "\n",
    "# Loop through the list of cities and perform a request for data on each, catch exceptions\n",
    "print(f'Beginning Data Retrieval \\n -----------------------')\n",
    "for city in cities:\n",
    "    try:\n",
    "        print(f'Processing Record {count} of Set {sets} | {city}' )\n",
    "        response = requests.get(query_url + city).json()\n",
    "        lat.append(response['coord']['lat'])\n",
    "        lng.append(response['coord']['lon'])\n",
    "        temp.append(response['main']['temp_max'])\n",
    "        hum.append(response['main']['humidity'])\n",
    "        cloud.append(response['clouds']['all'])\n",
    "        wind.append(response['wind']['speed'])\n",
    "        country.append(response['sys']['country'])\n",
    "        date.append(response['dt'])\n",
    "        count = count + 1\n",
    "    except KeyError:\n",
    "        print(f'City not found. Skipping . . .')\n",
    "    if count == 51: # create sets\n",
    "        sets = sets + 1\n",
    "        count = 1 #reset count\n",
    "        \n",
    "print(f' ---------------------------- \\n Data Retrieval Complete \\n ----------------------------')"
   ]
  },
  {
   "cell_type": "markdown",
   "metadata": {},
   "source": [
    "### Convert Raw Data to DataFrame\n",
    "* Export the city data into a .csv.\n",
    "* Display the DataFrame"
   ]
  },
  {
   "cell_type": "code",
   "execution_count": 6,
   "metadata": {},
   "outputs": [
    {
     "data": {
      "text/html": [
       "<div>\n",
       "<style scoped>\n",
       "    .dataframe tbody tr th:only-of-type {\n",
       "        vertical-align: middle;\n",
       "    }\n",
       "\n",
       "    .dataframe tbody tr th {\n",
       "        vertical-align: top;\n",
       "    }\n",
       "\n",
       "    .dataframe thead th {\n",
       "        text-align: right;\n",
       "    }\n",
       "</style>\n",
       "<table border=\"1\" class=\"dataframe\">\n",
       "  <thead>\n",
       "    <tr style=\"text-align: right;\">\n",
       "      <th></th>\n",
       "      <th>City</th>\n",
       "      <th>Lat</th>\n",
       "      <th>Lng</th>\n",
       "      <th>Max Temp</th>\n",
       "      <th>Humidity</th>\n",
       "      <th>Cloudiness</th>\n",
       "      <th>Wind Speed</th>\n",
       "      <th>Country</th>\n",
       "      <th>Date</th>\n",
       "    </tr>\n",
       "  </thead>\n",
       "  <tbody>\n",
       "    <tr>\n",
       "      <th>0</th>\n",
       "      <td>sisimiut</td>\n",
       "      <td>66.9395</td>\n",
       "      <td>-53.6735</td>\n",
       "      <td>31.93</td>\n",
       "      <td>75</td>\n",
       "      <td>59</td>\n",
       "      <td>5.91</td>\n",
       "      <td>GL</td>\n",
       "      <td>1619127300</td>\n",
       "    </tr>\n",
       "    <tr>\n",
       "      <th>1</th>\n",
       "      <td>provideniya</td>\n",
       "      <td>64.3833</td>\n",
       "      <td>-173.3000</td>\n",
       "      <td>37.40</td>\n",
       "      <td>56</td>\n",
       "      <td>0</td>\n",
       "      <td>15.66</td>\n",
       "      <td>RU</td>\n",
       "      <td>1619127608</td>\n",
       "    </tr>\n",
       "    <tr>\n",
       "      <th>2</th>\n",
       "      <td>mataura</td>\n",
       "      <td>-46.1927</td>\n",
       "      <td>168.8643</td>\n",
       "      <td>48.00</td>\n",
       "      <td>98</td>\n",
       "      <td>97</td>\n",
       "      <td>8.01</td>\n",
       "      <td>NZ</td>\n",
       "      <td>1619127609</td>\n",
       "    </tr>\n",
       "    <tr>\n",
       "      <th>3</th>\n",
       "      <td>abnub</td>\n",
       "      <td>27.2696</td>\n",
       "      <td>31.1511</td>\n",
       "      <td>78.80</td>\n",
       "      <td>29</td>\n",
       "      <td>0</td>\n",
       "      <td>11.50</td>\n",
       "      <td>EG</td>\n",
       "      <td>1619127609</td>\n",
       "    </tr>\n",
       "    <tr>\n",
       "      <th>4</th>\n",
       "      <td>qaanaaq</td>\n",
       "      <td>77.4840</td>\n",
       "      <td>-69.3632</td>\n",
       "      <td>16.36</td>\n",
       "      <td>80</td>\n",
       "      <td>87</td>\n",
       "      <td>10.38</td>\n",
       "      <td>GL</td>\n",
       "      <td>1619127609</td>\n",
       "    </tr>\n",
       "  </tbody>\n",
       "</table>\n",
       "</div>"
      ],
      "text/plain": [
       "          City      Lat       Lng  Max Temp  Humidity  Cloudiness  Wind Speed  \\\n",
       "0     sisimiut  66.9395  -53.6735     31.93        75          59        5.91   \n",
       "1  provideniya  64.3833 -173.3000     37.40        56           0       15.66   \n",
       "2      mataura -46.1927  168.8643     48.00        98          97        8.01   \n",
       "3        abnub  27.2696   31.1511     78.80        29           0       11.50   \n",
       "4      qaanaaq  77.4840  -69.3632     16.36        80          87       10.38   \n",
       "\n",
       "  Country        Date  \n",
       "0      GL  1619127300  \n",
       "1      RU  1619127608  \n",
       "2      NZ  1619127609  \n",
       "3      EG  1619127609  \n",
       "4      GL  1619127609  "
      ]
     },
     "execution_count": 6,
     "metadata": {},
     "output_type": "execute_result"
    }
   ],
   "source": [
    "#Create Df\n",
    "weatherpy_df = pd.DataFrame(list(zip(cities, lat, lng, temp, hum, cloud, wind, country, date)), \n",
    "                            columns=['City', 'Lat', 'Lng', 'Max Temp', 'Humidity', 'Cloudiness', 'Wind Speed', 'Country', 'Date'])\n",
    "\n",
    "\n",
    "#Export City Data into csv file\n",
    "weatherpy_df.to_csv(\"weatherpy.csv\", index = False)\n",
    "\n",
    "#Disply dataframe\n",
    "weatherpy_df.head()"
   ]
  },
  {
   "cell_type": "code",
   "execution_count": 7,
   "metadata": {},
   "outputs": [
    {
     "data": {
      "text/html": [
       "<div>\n",
       "<style scoped>\n",
       "    .dataframe tbody tr th:only-of-type {\n",
       "        vertical-align: middle;\n",
       "    }\n",
       "\n",
       "    .dataframe tbody tr th {\n",
       "        vertical-align: top;\n",
       "    }\n",
       "\n",
       "    .dataframe thead th {\n",
       "        text-align: right;\n",
       "    }\n",
       "</style>\n",
       "<table border=\"1\" class=\"dataframe\">\n",
       "  <thead>\n",
       "    <tr style=\"text-align: right;\">\n",
       "      <th></th>\n",
       "      <th>Lat</th>\n",
       "      <th>Lng</th>\n",
       "      <th>Max Temp</th>\n",
       "      <th>Humidity</th>\n",
       "      <th>Cloudiness</th>\n",
       "      <th>Wind Speed</th>\n",
       "      <th>Date</th>\n",
       "    </tr>\n",
       "  </thead>\n",
       "  <tbody>\n",
       "    <tr>\n",
       "      <th>count</th>\n",
       "      <td>573.000000</td>\n",
       "      <td>573.000000</td>\n",
       "      <td>573.000000</td>\n",
       "      <td>573.000000</td>\n",
       "      <td>573.000000</td>\n",
       "      <td>573.000000</td>\n",
       "      <td>5.730000e+02</td>\n",
       "    </tr>\n",
       "    <tr>\n",
       "      <th>mean</th>\n",
       "      <td>20.082807</td>\n",
       "      <td>21.091450</td>\n",
       "      <td>59.433473</td>\n",
       "      <td>70.441536</td>\n",
       "      <td>55.905759</td>\n",
       "      <td>8.106213</td>\n",
       "      <td>1.619128e+09</td>\n",
       "    </tr>\n",
       "    <tr>\n",
       "      <th>std</th>\n",
       "      <td>33.432597</td>\n",
       "      <td>89.714255</td>\n",
       "      <td>19.857457</td>\n",
       "      <td>22.616802</td>\n",
       "      <td>38.073652</td>\n",
       "      <td>5.928186</td>\n",
       "      <td>2.152336e+02</td>\n",
       "    </tr>\n",
       "    <tr>\n",
       "      <th>min</th>\n",
       "      <td>-54.800000</td>\n",
       "      <td>-175.200000</td>\n",
       "      <td>-2.610000</td>\n",
       "      <td>7.000000</td>\n",
       "      <td>0.000000</td>\n",
       "      <td>0.310000</td>\n",
       "      <td>1.619127e+09</td>\n",
       "    </tr>\n",
       "    <tr>\n",
       "      <th>25%</th>\n",
       "      <td>-7.025300</td>\n",
       "      <td>-56.154900</td>\n",
       "      <td>45.000000</td>\n",
       "      <td>58.000000</td>\n",
       "      <td>20.000000</td>\n",
       "      <td>3.470000</td>\n",
       "      <td>1.619127e+09</td>\n",
       "    </tr>\n",
       "    <tr>\n",
       "      <th>50%</th>\n",
       "      <td>22.788600</td>\n",
       "      <td>23.916700</td>\n",
       "      <td>62.560000</td>\n",
       "      <td>77.000000</td>\n",
       "      <td>68.000000</td>\n",
       "      <td>6.620000</td>\n",
       "      <td>1.619128e+09</td>\n",
       "    </tr>\n",
       "    <tr>\n",
       "      <th>75%</th>\n",
       "      <td>47.804300</td>\n",
       "      <td>101.750000</td>\n",
       "      <td>77.000000</td>\n",
       "      <td>87.000000</td>\n",
       "      <td>94.000000</td>\n",
       "      <td>11.250000</td>\n",
       "      <td>1.619128e+09</td>\n",
       "    </tr>\n",
       "    <tr>\n",
       "      <th>max</th>\n",
       "      <td>78.218600</td>\n",
       "      <td>179.316700</td>\n",
       "      <td>94.240000</td>\n",
       "      <td>100.000000</td>\n",
       "      <td>100.000000</td>\n",
       "      <td>42.080000</td>\n",
       "      <td>1.619128e+09</td>\n",
       "    </tr>\n",
       "  </tbody>\n",
       "</table>\n",
       "</div>"
      ],
      "text/plain": [
       "              Lat         Lng    Max Temp    Humidity  Cloudiness  Wind Speed  \\\n",
       "count  573.000000  573.000000  573.000000  573.000000  573.000000  573.000000   \n",
       "mean    20.082807   21.091450   59.433473   70.441536   55.905759    8.106213   \n",
       "std     33.432597   89.714255   19.857457   22.616802   38.073652    5.928186   \n",
       "min    -54.800000 -175.200000   -2.610000    7.000000    0.000000    0.310000   \n",
       "25%     -7.025300  -56.154900   45.000000   58.000000   20.000000    3.470000   \n",
       "50%     22.788600   23.916700   62.560000   77.000000   68.000000    6.620000   \n",
       "75%     47.804300  101.750000   77.000000   87.000000   94.000000   11.250000   \n",
       "max     78.218600  179.316700   94.240000  100.000000  100.000000   42.080000   \n",
       "\n",
       "               Date  \n",
       "count  5.730000e+02  \n",
       "mean   1.619128e+09  \n",
       "std    2.152336e+02  \n",
       "min    1.619127e+09  \n",
       "25%    1.619127e+09  \n",
       "50%    1.619128e+09  \n",
       "75%    1.619128e+09  \n",
       "max    1.619128e+09  "
      ]
     },
     "execution_count": 7,
     "metadata": {},
     "output_type": "execute_result"
    }
   ],
   "source": [
    "weatherpy_df.describe()"
   ]
  },
  {
   "cell_type": "markdown",
   "metadata": {},
   "source": [
    "## Inspect the data and remove the cities where the humidity > 100%.\n",
    "----\n",
    "Skip this step if there are no cities that have humidity > 100%. "
   ]
  },
  {
   "cell_type": "code",
   "execution_count": null,
   "metadata": {},
   "outputs": [],
   "source": []
  },
  {
   "cell_type": "code",
   "execution_count": 17,
   "metadata": {},
   "outputs": [
    {
     "data": {
      "text/plain": [
       "Int64Index([], dtype='int64')"
      ]
     },
     "execution_count": 17,
     "metadata": {},
     "output_type": "execute_result"
    }
   ],
   "source": [
    "#  Get the indices of cities that have humidity over 100%.\n"
   ]
  },
  {
   "cell_type": "code",
   "execution_count": 19,
   "metadata": {},
   "outputs": [
    {
     "data": {
      "text/html": [
       "<div>\n",
       "<style scoped>\n",
       "    .dataframe tbody tr th:only-of-type {\n",
       "        vertical-align: middle;\n",
       "    }\n",
       "\n",
       "    .dataframe tbody tr th {\n",
       "        vertical-align: top;\n",
       "    }\n",
       "\n",
       "    .dataframe thead th {\n",
       "        text-align: right;\n",
       "    }\n",
       "</style>\n",
       "<table border=\"1\" class=\"dataframe\">\n",
       "  <thead>\n",
       "    <tr style=\"text-align: right;\">\n",
       "      <th></th>\n",
       "      <th>City</th>\n",
       "      <th>Lat</th>\n",
       "      <th>Lng</th>\n",
       "      <th>Max Temp</th>\n",
       "      <th>Humidity</th>\n",
       "      <th>Cloudiness</th>\n",
       "      <th>Wind Speed</th>\n",
       "      <th>Country</th>\n",
       "      <th>Date</th>\n",
       "    </tr>\n",
       "  </thead>\n",
       "  <tbody>\n",
       "    <tr>\n",
       "      <td>0</td>\n",
       "      <td>butaritari</td>\n",
       "      <td>3.07</td>\n",
       "      <td>172.79</td>\n",
       "      <td>83.32</td>\n",
       "      <td>74</td>\n",
       "      <td>84</td>\n",
       "      <td>10.42</td>\n",
       "      <td>KI</td>\n",
       "      <td>1593605283</td>\n",
       "    </tr>\n",
       "    <tr>\n",
       "      <td>1</td>\n",
       "      <td>yerbogachen</td>\n",
       "      <td>61.28</td>\n",
       "      <td>108.01</td>\n",
       "      <td>79.52</td>\n",
       "      <td>58</td>\n",
       "      <td>20</td>\n",
       "      <td>7.70</td>\n",
       "      <td>RU</td>\n",
       "      <td>1593605121</td>\n",
       "    </tr>\n",
       "    <tr>\n",
       "      <td>2</td>\n",
       "      <td>cape town</td>\n",
       "      <td>-33.93</td>\n",
       "      <td>18.42</td>\n",
       "      <td>73.00</td>\n",
       "      <td>77</td>\n",
       "      <td>27</td>\n",
       "      <td>4.70</td>\n",
       "      <td>ZA</td>\n",
       "      <td>1593605039</td>\n",
       "    </tr>\n",
       "    <tr>\n",
       "      <td>3</td>\n",
       "      <td>touba</td>\n",
       "      <td>8.28</td>\n",
       "      <td>-7.68</td>\n",
       "      <td>79.97</td>\n",
       "      <td>75</td>\n",
       "      <td>82</td>\n",
       "      <td>3.58</td>\n",
       "      <td>CI</td>\n",
       "      <td>1593605284</td>\n",
       "    </tr>\n",
       "    <tr>\n",
       "      <td>4</td>\n",
       "      <td>jamestown</td>\n",
       "      <td>42.10</td>\n",
       "      <td>-79.24</td>\n",
       "      <td>64.00</td>\n",
       "      <td>88</td>\n",
       "      <td>1</td>\n",
       "      <td>6.93</td>\n",
       "      <td>US</td>\n",
       "      <td>1593605284</td>\n",
       "    </tr>\n",
       "  </tbody>\n",
       "</table>\n",
       "</div>"
      ],
      "text/plain": [
       "          City    Lat     Lng  Max Temp  Humidity  Cloudiness  Wind Speed  \\\n",
       "0   butaritari   3.07  172.79     83.32        74          84       10.42   \n",
       "1  yerbogachen  61.28  108.01     79.52        58          20        7.70   \n",
       "2    cape town -33.93   18.42     73.00        77          27        4.70   \n",
       "3        touba   8.28   -7.68     79.97        75          82        3.58   \n",
       "4    jamestown  42.10  -79.24     64.00        88           1        6.93   \n",
       "\n",
       "  Country        Date  \n",
       "0      KI  1593605283  \n",
       "1      RU  1593605121  \n",
       "2      ZA  1593605039  \n",
       "3      CI  1593605284  \n",
       "4      US  1593605284  "
      ]
     },
     "execution_count": 19,
     "metadata": {},
     "output_type": "execute_result"
    }
   ],
   "source": [
    "# Make a new DataFrame equal to the city data to drop all humidity outliers by index.\n",
    "# Passing \"inplace=False\" will make a copy of the city_data DataFrame, which we call \"clean_city_data\".\n"
   ]
  },
  {
   "cell_type": "code",
   "execution_count": null,
   "metadata": {},
   "outputs": [],
   "source": [
    "\n"
   ]
  },
  {
   "cell_type": "markdown",
   "metadata": {},
   "source": [
    "## Plotting the Data\n",
    "* Use proper labeling of the plots using plot titles (including date of analysis) and axes labels.\n",
    "* Save the plotted figures as .pngs."
   ]
  },
  {
   "cell_type": "markdown",
   "metadata": {},
   "source": [
    "## Latitude vs. Temperature Plot"
   ]
  },
  {
   "cell_type": "code",
   "execution_count": 8,
   "metadata": {
    "scrolled": true
   },
   "outputs": [
    {
     "data": {
      "image/png": "[encoded data removed]",
      "text/plain": [
       "<Figure size 432x288 with 1 Axes>"
      ]
     },
     "metadata": {
      "needs_background": "light"
     },
     "output_type": "display_data"
    },
    {
     "data": {
      "text/plain": [
       "<Figure size 432x288 with 0 Axes>"
      ]
     },
     "metadata": {},
     "output_type": "display_data"
    }
   ],
   "source": [
    "#Create Scatter plot for Temp vs Lat\n",
    "x_values = weatherpy_df['Lat']\n",
    "y_values = weatherpy_df['Max Temp']\n",
    "plt.scatter(x_values,y_values)\n",
    "plt.title('City Latitude vs. Max Temperature (04/14/21)')\n",
    "plt.xlabel('Latitude')\n",
    "plt.ylabel('Max Temperature (F)')\n",
    "plt.show()\n",
    "\n",
    "plt.savefig(\"Images/lat_vs_maxtemp.png\")"
   ]
  },
  {
   "cell_type": "markdown",
   "metadata": {},
   "source": [
    "In this graph we are looking at the relationship between Latitude and Temperature of the different random cities we chose. From the looks of the graph it looks like there is a strong correlation between a cities latitude and its max temperature. "
   ]
  },
  {
   "cell_type": "markdown",
   "metadata": {},
   "source": [
    "## Latitude vs. Humidity Plot"
   ]
  },
  {
   "cell_type": "code",
   "execution_count": 9,
   "metadata": {},
   "outputs": [
    {
     "data": {
      "image/png": "[encoded data removed]",
      "text/plain": [
       "<Figure size 432x288 with 1 Axes>"
      ]
     },
     "metadata": {
      "needs_background": "light"
     },
     "output_type": "display_data"
    },
    {
     "data": {
      "text/plain": [
       "<Figure size 432x288 with 0 Axes>"
      ]
     },
     "metadata": {},
     "output_type": "display_data"
    }
   ],
   "source": [
    "#Create Scatter plot for Humidity vs Lat\n",
    "x_values = weatherpy_df['Lat']\n",
    "y_values = weatherpy_df['Humidity']\n",
    "plt.scatter(x_values,y_values)\n",
    "plt.title('City Latitude vs. Humidity (04/14/21)')\n",
    "plt.xlabel('Latitude')\n",
    "plt.ylabel('Humidity (%)')\n",
    "plt.show()\n",
    "\n",
    "plt.savefig(\"Images/lat_vs_humidity.png\")"
   ]
  },
  {
   "cell_type": "markdown",
   "metadata": {},
   "source": [
    "Looking at the relationship between Latitude and Humidity, there seems to be little to no correlation."
   ]
  },
  {
   "cell_type": "markdown",
   "metadata": {},
   "source": [
    "## Latitude vs. Cloudiness Plot"
   ]
  },
  {
   "cell_type": "code",
   "execution_count": 10,
   "metadata": {},
   "outputs": [
    {
     "data": {
      "image/png": "[encoded data removed]",
      "text/plain": [
       "<Figure size 432x288 with 1 Axes>"
      ]
     },
     "metadata": {
      "needs_background": "light"
     },
     "output_type": "display_data"
    },
    {
     "data": {
      "text/plain": [
       "<Figure size 432x288 with 0 Axes>"
      ]
     },
     "metadata": {},
     "output_type": "display_data"
    }
   ],
   "source": [
    "#Create Scatter plot for Cloudiness vs Lat\n",
    "x_values = weatherpy_df['Lat']\n",
    "y_values = weatherpy_df['Cloudiness']\n",
    "plt.scatter(x_values,y_values)\n",
    "plt.title('City Latitude vs. Cloudiness (04/14/21)')\n",
    "plt.xlabel('Latitude')\n",
    "plt.ylabel('Cloudiness (%)')\n",
    "plt.show()\n",
    "\n",
    "plt.savefig(\"Images/lat_vs_cloudiness.png\")"
   ]
  },
  {
   "cell_type": "markdown",
   "metadata": {},
   "source": [
    "Looking at the relationship between Latitude and Cloudiness, there seems to be no correlation. "
   ]
  },
  {
   "cell_type": "markdown",
   "metadata": {},
   "source": [
    "## Latitude vs. Wind Speed Plot"
   ]
  },
  {
   "cell_type": "code",
   "execution_count": 11,
   "metadata": {},
   "outputs": [
    {
     "data": {
      "image/png": "[encoded data removed]",
      "text/plain": [
       "<Figure size 432x288 with 1 Axes>"
      ]
     },
     "metadata": {
      "needs_background": "light"
     },
     "output_type": "display_data"
    },
    {
     "data": {
      "text/plain": [
       "<Figure size 432x288 with 0 Axes>"
      ]
     },
     "metadata": {},
     "output_type": "display_data"
    }
   ],
   "source": [
    "#Create Scatter plot for Wind vs Lat\n",
    "x_values = weatherpy_df['Lat']\n",
    "y_values = weatherpy_df['Wind Speed']\n",
    "plt.scatter(x_values,y_values)\n",
    "plt.title('City Latitude vs. Wind Speed (04/14/21)')\n",
    "plt.xlabel('Latitude')\n",
    "plt.ylabel('Wind Speed (mph)')\n",
    "plt.show()\n",
    "\n",
    "plt.savefig(\"Images/lat_vs_windspeed.png\")"
   ]
  },
  {
   "cell_type": "markdown",
   "metadata": {},
   "source": [
    "In this graph we are pulling the Latitude and Wind Speed data from all of the random cities and seeing if there is a correlation. Looking at the graph, there seems to be a correlations between the two. "
   ]
  },
  {
   "cell_type": "markdown",
   "metadata": {},
   "source": [
    "## Linear Regression"
   ]
  },
  {
   "cell_type": "code",
   "execution_count": 12,
   "metadata": {},
   "outputs": [
    {
     "data": {
      "text/html": [
       "<div>\n",
       "<style scoped>\n",
       "    .dataframe tbody tr th:only-of-type {\n",
       "        vertical-align: middle;\n",
       "    }\n",
       "\n",
       "    .dataframe tbody tr th {\n",
       "        vertical-align: top;\n",
       "    }\n",
       "\n",
       "    .dataframe thead th {\n",
       "        text-align: right;\n",
       "    }\n",
       "</style>\n",
       "<table border=\"1\" class=\"dataframe\">\n",
       "  <thead>\n",
       "    <tr style=\"text-align: right;\">\n",
       "      <th></th>\n",
       "      <th>City</th>\n",
       "      <th>Lat</th>\n",
       "      <th>Lng</th>\n",
       "      <th>Max Temp</th>\n",
       "      <th>Humidity</th>\n",
       "      <th>Cloudiness</th>\n",
       "      <th>Wind Speed</th>\n",
       "      <th>Country</th>\n",
       "      <th>Date</th>\n",
       "    </tr>\n",
       "  </thead>\n",
       "  <tbody>\n",
       "    <tr>\n",
       "      <th>0</th>\n",
       "      <td>sisimiut</td>\n",
       "      <td>66.9395</td>\n",
       "      <td>-53.6735</td>\n",
       "      <td>31.93</td>\n",
       "      <td>75</td>\n",
       "      <td>59</td>\n",
       "      <td>5.91</td>\n",
       "      <td>GL</td>\n",
       "      <td>1619127300</td>\n",
       "    </tr>\n",
       "    <tr>\n",
       "      <th>1</th>\n",
       "      <td>provideniya</td>\n",
       "      <td>64.3833</td>\n",
       "      <td>-173.3000</td>\n",
       "      <td>37.40</td>\n",
       "      <td>56</td>\n",
       "      <td>0</td>\n",
       "      <td>15.66</td>\n",
       "      <td>RU</td>\n",
       "      <td>1619127608</td>\n",
       "    </tr>\n",
       "    <tr>\n",
       "      <th>3</th>\n",
       "      <td>abnub</td>\n",
       "      <td>27.2696</td>\n",
       "      <td>31.1511</td>\n",
       "      <td>78.80</td>\n",
       "      <td>29</td>\n",
       "      <td>0</td>\n",
       "      <td>11.50</td>\n",
       "      <td>EG</td>\n",
       "      <td>1619127609</td>\n",
       "    </tr>\n",
       "    <tr>\n",
       "      <th>4</th>\n",
       "      <td>qaanaaq</td>\n",
       "      <td>77.4840</td>\n",
       "      <td>-69.3632</td>\n",
       "      <td>16.36</td>\n",
       "      <td>80</td>\n",
       "      <td>87</td>\n",
       "      <td>10.38</td>\n",
       "      <td>GL</td>\n",
       "      <td>1619127609</td>\n",
       "    </tr>\n",
       "    <tr>\n",
       "      <th>6</th>\n",
       "      <td>tayzhina</td>\n",
       "      <td>53.6679</td>\n",
       "      <td>87.4362</td>\n",
       "      <td>23.85</td>\n",
       "      <td>87</td>\n",
       "      <td>5</td>\n",
       "      <td>4.41</td>\n",
       "      <td>RU</td>\n",
       "      <td>1619127610</td>\n",
       "    </tr>\n",
       "  </tbody>\n",
       "</table>\n",
       "</div>"
      ],
      "text/plain": [
       "          City      Lat       Lng  Max Temp  Humidity  Cloudiness  Wind Speed  \\\n",
       "0     sisimiut  66.9395  -53.6735     31.93        75          59        5.91   \n",
       "1  provideniya  64.3833 -173.3000     37.40        56           0       15.66   \n",
       "3        abnub  27.2696   31.1511     78.80        29           0       11.50   \n",
       "4      qaanaaq  77.4840  -69.3632     16.36        80          87       10.38   \n",
       "6     tayzhina  53.6679   87.4362     23.85        87           5        4.41   \n",
       "\n",
       "  Country        Date  \n",
       "0      GL  1619127300  \n",
       "1      RU  1619127608  \n",
       "3      EG  1619127609  \n",
       "4      GL  1619127609  \n",
       "6      RU  1619127610  "
      ]
     },
     "execution_count": 12,
     "metadata": {},
     "output_type": "execute_result"
    }
   ],
   "source": [
    "northernhem_df = weatherpy_df[weatherpy_df['Lat'] >= 0]\n",
    "northernhem_df.head()"
   ]
  },
  {
   "cell_type": "code",
   "execution_count": 13,
   "metadata": {},
   "outputs": [
    {
     "data": {
      "text/html": [
       "<div>\n",
       "<style scoped>\n",
       "    .dataframe tbody tr th:only-of-type {\n",
       "        vertical-align: middle;\n",
       "    }\n",
       "\n",
       "    .dataframe tbody tr th {\n",
       "        vertical-align: top;\n",
       "    }\n",
       "\n",
       "    .dataframe thead th {\n",
       "        text-align: right;\n",
       "    }\n",
       "</style>\n",
       "<table border=\"1\" class=\"dataframe\">\n",
       "  <thead>\n",
       "    <tr style=\"text-align: right;\">\n",
       "      <th></th>\n",
       "      <th>City</th>\n",
       "      <th>Lat</th>\n",
       "      <th>Lng</th>\n",
       "      <th>Max Temp</th>\n",
       "      <th>Humidity</th>\n",
       "      <th>Cloudiness</th>\n",
       "      <th>Wind Speed</th>\n",
       "      <th>Country</th>\n",
       "      <th>Date</th>\n",
       "    </tr>\n",
       "  </thead>\n",
       "  <tbody>\n",
       "    <tr>\n",
       "      <th>2</th>\n",
       "      <td>mataura</td>\n",
       "      <td>-46.1927</td>\n",
       "      <td>168.8643</td>\n",
       "      <td>48.00</td>\n",
       "      <td>98</td>\n",
       "      <td>97</td>\n",
       "      <td>8.01</td>\n",
       "      <td>NZ</td>\n",
       "      <td>1619127609</td>\n",
       "    </tr>\n",
       "    <tr>\n",
       "      <th>5</th>\n",
       "      <td>bluff</td>\n",
       "      <td>-46.6000</td>\n",
       "      <td>168.3333</td>\n",
       "      <td>48.00</td>\n",
       "      <td>98</td>\n",
       "      <td>100</td>\n",
       "      <td>8.01</td>\n",
       "      <td>NZ</td>\n",
       "      <td>1619127610</td>\n",
       "    </tr>\n",
       "    <tr>\n",
       "      <th>8</th>\n",
       "      <td>vaini</td>\n",
       "      <td>-21.2000</td>\n",
       "      <td>-175.2000</td>\n",
       "      <td>84.20</td>\n",
       "      <td>84</td>\n",
       "      <td>40</td>\n",
       "      <td>5.75</td>\n",
       "      <td>TO</td>\n",
       "      <td>1619127610</td>\n",
       "    </tr>\n",
       "    <tr>\n",
       "      <th>10</th>\n",
       "      <td>punta arenas</td>\n",
       "      <td>-53.1500</td>\n",
       "      <td>-70.9167</td>\n",
       "      <td>48.20</td>\n",
       "      <td>87</td>\n",
       "      <td>75</td>\n",
       "      <td>6.91</td>\n",
       "      <td>CL</td>\n",
       "      <td>1619127611</td>\n",
       "    </tr>\n",
       "    <tr>\n",
       "      <th>11</th>\n",
       "      <td>vaitape</td>\n",
       "      <td>-16.5167</td>\n",
       "      <td>-151.7500</td>\n",
       "      <td>81.03</td>\n",
       "      <td>74</td>\n",
       "      <td>12</td>\n",
       "      <td>15.35</td>\n",
       "      <td>PF</td>\n",
       "      <td>1619127611</td>\n",
       "    </tr>\n",
       "  </tbody>\n",
       "</table>\n",
       "</div>"
      ],
      "text/plain": [
       "            City      Lat       Lng  Max Temp  Humidity  Cloudiness  \\\n",
       "2        mataura -46.1927  168.8643     48.00        98          97   \n",
       "5          bluff -46.6000  168.3333     48.00        98         100   \n",
       "8          vaini -21.2000 -175.2000     84.20        84          40   \n",
       "10  punta arenas -53.1500  -70.9167     48.20        87          75   \n",
       "11       vaitape -16.5167 -151.7500     81.03        74          12   \n",
       "\n",
       "    Wind Speed Country        Date  \n",
       "2         8.01      NZ  1619127609  \n",
       "5         8.01      NZ  1619127610  \n",
       "8         5.75      TO  1619127610  \n",
       "10        6.91      CL  1619127611  \n",
       "11       15.35      PF  1619127611  "
      ]
     },
     "execution_count": 13,
     "metadata": {},
     "output_type": "execute_result"
    }
   ],
   "source": [
    "southernhem_df = weatherpy_df[weatherpy_df['Lat'] < 0]\n",
    "southernhem_df.head()"
   ]
  },
  {
   "cell_type": "markdown",
   "metadata": {},
   "source": [
    "####  Northern Hemisphere - Max Temp vs. Latitude Linear Regression"
   ]
  },
  {
   "cell_type": "code",
   "execution_count": 15,
   "metadata": {},
   "outputs": [
    {
     "name": "stdout",
     "output_type": "stream",
     "text": [
      "The r-value is: 0.8009736917287207\n"
     ]
    },
    {
     "data": {
      "image/png": "[encoded data removed]",
      "text/plain": [
       "<Figure size 432x288 with 1 Axes>"
      ]
     },
     "metadata": {
      "needs_background": "light"
     },
     "output_type": "display_data"
    },
    {
     "data": {
      "text/plain": [
       "<Figure size 432x288 with 0 Axes>"
      ]
     },
     "metadata": {},
     "output_type": "display_data"
    }
   ],
   "source": [
    "#Create Scatter plot for max temp vs Lat\n",
    "x_values = northernhem_df['Lat']\n",
    "y_values = northernhem_df['Max Temp']\n",
    "plt.scatter(x_values,y_values)\n",
    "plt.title('City Latitude vs. Max Temperature (04/14/21)')\n",
    "plt.xlabel('Latitude')\n",
    "plt.ylabel('Max Temperature (F)')\n",
    "\n",
    "# Perform a linear regression on temperature vs. latitude\n",
    "(slope, intercept, rvalue, pvalue, stderr) = linregress(x_values, y_values)\n",
    "\n",
    "# Get regression values\n",
    "regress_values = x_values * slope + intercept\n",
    "\n",
    "# Create line equation string\n",
    "line_eq = \"y = \" + str(round(slope,2)) + \"x +\" + str(round(intercept,2))\n",
    "\n",
    "#Plot Linear regression\n",
    "plt.plot(x_values,regress_values,\"r-\")\n",
    "plt.annotate(line_eq,(26,72),fontsize=10,color=\"red\")\n",
    "\n",
    "# Print r value\n",
    "print(f\"The r-value is: {rvalue**2}\")\n",
    "\n",
    "#Show plot\n",
    "plt.show()\n",
    "\n",
    "plt.savefig(\"Images/lat_vs_maxtemp_north.png\")"
   ]
  },
  {
   "cell_type": "markdown",
   "metadata": {},
   "source": [
    "####  Southern Hemisphere - Max Temp vs. Latitude Linear Regression"
   ]
  },
  {
   "cell_type": "code",
   "execution_count": 16,
   "metadata": {},
   "outputs": [
    {
     "name": "stdout",
     "output_type": "stream",
     "text": [
      "The r-value is: 0.5463260791709366\n"
     ]
    },
    {
     "data": {
      "image/png": "[encoded data removed]",
      "text/plain": [
       "<Figure size 432x288 with 1 Axes>"
      ]
     },
     "metadata": {
      "needs_background": "light"
     },
     "output_type": "display_data"
    },
    {
     "data": {
      "text/plain": [
       "<Figure size 432x288 with 0 Axes>"
      ]
     },
     "metadata": {},
     "output_type": "display_data"
    }
   ],
   "source": [
    "#Create Scatter plot for max temp vs Lat\n",
    "x_values = southernhem_df['Lat']\n",
    "y_values = southernhem_df['Max Temp']\n",
    "plt.scatter(x_values,y_values)\n",
    "plt.title('City Latitude vs. Max Temperature (04/14/21)')\n",
    "plt.xlabel('Latitude')\n",
    "plt.ylabel('Max Temperature (F)')\n",
    "\n",
    "# Perform a linear regression on temperature vs. latitude\n",
    "(slope, intercept, rvalue, pvalue, stderr) = linregress(x_values, y_values)\n",
    "\n",
    "# Get regression values\n",
    "regress_values = x_values * slope + intercept\n",
    "\n",
    "# Create line equation string\n",
    "line_eq = \"y = \" + str(round(slope,2)) + \"x +\" + str(round(intercept,2))\n",
    "\n",
    "#Plot Linear regression\n",
    "plt.plot(x_values,regress_values,\"r-\")\n",
    "plt.annotate(line_eq,(-30,50),fontsize=10,color=\"red\")\n",
    "\n",
    "# Print r value\n",
    "print(f\"The r-value is: {rvalue**2}\")\n",
    "\n",
    "#Show plot\n",
    "plt.show()\n",
    "\n",
    "plt.savefig(\"Images/lat_vs_maxtemp_south.png\")"
   ]
  },
  {
   "cell_type": "markdown",
   "metadata": {},
   "source": [
    "After splitting the cities into nortern and southern hemispheres, we were able to look at the relationships between latitude and max temperatures and location. As you can see there is a stronger correlation between latitude and max temperature in the northern hemisphere than the southern. The southern hemisphere still has a moderate correlation between latitude and max temperature. The higher your r-squared the better the linear regression fits the model. The r-value for the northern hemisphere graph shows a higher chance that the data will be near the regression line. "
   ]
  },
  {
   "cell_type": "markdown",
   "metadata": {},
   "source": [
    "####  Northern Hemisphere - Humidity (%) vs. Latitude Linear Regression"
   ]
  },
  {
   "cell_type": "code",
   "execution_count": 17,
   "metadata": {},
   "outputs": [
    {
     "name": "stdout",
     "output_type": "stream",
     "text": [
      "The r-value is: 0.02159791511060939\n"
     ]
    },
    {
     "data": {
      "image/png": "[encoded data removed]",
      "text/plain": [
       "<Figure size 432x288 with 1 Axes>"
      ]
     },
     "metadata": {
      "needs_background": "light"
     },
     "output_type": "display_data"
    },
    {
     "data": {
      "text/plain": [
       "<Figure size 432x288 with 0 Axes>"
      ]
     },
     "metadata": {},
     "output_type": "display_data"
    }
   ],
   "source": [
    "#Create Scatter plot for humidity vs Lat\n",
    "x_values = northernhem_df['Lat']\n",
    "y_values = northernhem_df['Humidity']\n",
    "plt.scatter(x_values,y_values)\n",
    "plt.title('City Latitude vs. Humidity (04/14/21)')\n",
    "plt.xlabel('Latitude')\n",
    "plt.ylabel('Humidity (%)')\n",
    "\n",
    "# Perform a linear regression on temperature vs. latitude\n",
    "(slope, intercept, rvalue, pvalue, stderr) = linregress(x_values, y_values)\n",
    "\n",
    "# Get regression values\n",
    "regress_values = x_values * slope + intercept\n",
    "\n",
    "# Create line equation string\n",
    "line_eq = \"y = \" + str(round(slope,2)) + \"x +\" + str(round(intercept,2))\n",
    "\n",
    "#Plot Linear regression\n",
    "plt.plot(x_values,regress_values,\"r-\")\n",
    "plt.annotate(line_eq,(26,10),fontsize=10,color=\"red\")\n",
    "\n",
    "# Print r value\n",
    "print(f\"The r-value is: {rvalue**2}\")\n",
    "\n",
    "#Show plot\n",
    "plt.show()\n",
    "\n",
    "plt.savefig(\"Images/lat_vs_humidity_north.png\")"
   ]
  },
  {
   "cell_type": "markdown",
   "metadata": {},
   "source": [
    "####  Southern Hemisphere - Humidity (%) vs. Latitude Linear Regression"
   ]
  },
  {
   "cell_type": "code",
   "execution_count": 18,
   "metadata": {},
   "outputs": [
    {
     "name": "stdout",
     "output_type": "stream",
     "text": [
      "The r-value is: 0.015103071910179913\n"
     ]
    },
    {
     "data": {
      "image/png": "[encoded data removed]",
      "text/plain": [
       "<Figure size 432x288 with 1 Axes>"
      ]
     },
     "metadata": {
      "needs_background": "light"
     },
     "output_type": "display_data"
    },
    {
     "data": {
      "text/plain": [
       "<Figure size 432x288 with 0 Axes>"
      ]
     },
     "metadata": {},
     "output_type": "display_data"
    }
   ],
   "source": [
    "#Create Scatter plot for humidity vs Lat\n",
    "x_values = southernhem_df['Lat']\n",
    "y_values = southernhem_df['Humidity']\n",
    "plt.scatter(x_values,y_values)\n",
    "plt.title('City Latitude vs. Humidity (04/14/21)')\n",
    "plt.xlabel('Latitude')\n",
    "plt.ylabel('Humidity (%)')\n",
    "\n",
    "# Perform a linear regression on temperature vs. latitude\n",
    "(slope, intercept, rvalue, pvalue, stderr) = linregress(x_values, y_values)\n",
    "\n",
    "# Get regression values\n",
    "regress_values = x_values * slope + intercept\n",
    "\n",
    "# Create line equation string\n",
    "line_eq = \"y = \" + str(round(slope,2)) + \"x +\" + str(round(intercept,2))\n",
    "\n",
    "#Plot Linear regression\n",
    "plt.plot(x_values,regress_values,\"r-\")\n",
    "plt.annotate(line_eq,(-50,30),fontsize=10,color=\"red\")\n",
    "\n",
    "# Print r value\n",
    "print(f\"The r-value is: {rvalue**2}\")\n",
    "\n",
    "#Show plot\n",
    "plt.show()\n",
    "\n",
    "plt.savefig(\"Images/lat_vs_humidity_south.png\")"
   ]
  },
  {
   "cell_type": "markdown",
   "metadata": {},
   "source": [
    "Looking at both of the graphs comparing Latitude and Humidity, you can see there is not much of a correlation. Both r-values are very low which means that the variables are not great at predicting each other. "
   ]
  },
  {
   "cell_type": "markdown",
   "metadata": {},
   "source": [
    "####  Northern Hemisphere - Cloudiness (%) vs. Latitude Linear Regression"
   ]
  },
  {
   "cell_type": "code",
   "execution_count": 19,
   "metadata": {},
   "outputs": [
    {
     "name": "stdout",
     "output_type": "stream",
     "text": [
      "The r-value is: 0.01067484173298821\n"
     ]
    },
    {
     "data": {
      "image/png": "[encoded data removed]",
      "text/plain": [
       "<Figure size 432x288 with 1 Axes>"
      ]
     },
     "metadata": {
      "needs_background": "light"
     },
     "output_type": "display_data"
    },
    {
     "data": {
      "text/plain": [
       "<Figure size 432x288 with 0 Axes>"
      ]
     },
     "metadata": {},
     "output_type": "display_data"
    }
   ],
   "source": [
    "#Create Scatter plot for cloudiness vs Lat\n",
    "x_values = northernhem_df['Lat']\n",
    "y_values = northernhem_df['Cloudiness']\n",
    "plt.scatter(x_values,y_values)\n",
    "plt.title('City Latitude vs. Cloudiness (04/14/21)')\n",
    "plt.xlabel('Latitude')\n",
    "plt.ylabel('Cloudiness (%)')\n",
    "\n",
    "# Perform a linear regression on temperature vs. latitude\n",
    "(slope, intercept, rvalue, pvalue, stderr) = linregress(x_values, y_values)\n",
    "\n",
    "# Get regression values\n",
    "regress_values = x_values * slope + intercept\n",
    "\n",
    "# Create line equation string\n",
    "line_eq = \"y = \" + str(round(slope,2)) + \"x +\" + str(round(intercept,2))\n",
    "\n",
    "#Plot Linear regression\n",
    "plt.plot(x_values,regress_values,\"r-\")\n",
    "plt.annotate(line_eq,(26,10),fontsize=10,color=\"red\")\n",
    "\n",
    "# Print r value\n",
    "print(f\"The r-value is: {rvalue**2}\")\n",
    "\n",
    "#Show plot\n",
    "plt.show()\n",
    "\n",
    "plt.savefig(\"Images/lat_vs_cloudiness_north.png\")"
   ]
  },
  {
   "cell_type": "markdown",
   "metadata": {},
   "source": [
    "####  Southern Hemisphere - Cloudiness (%) vs. Latitude Linear Regression"
   ]
  },
  {
   "cell_type": "code",
   "execution_count": 23,
   "metadata": {},
   "outputs": [
    {
     "name": "stdout",
     "output_type": "stream",
     "text": [
      "The r-value is: 0.06187744839207731\n"
     ]
    },
    {
     "data": {
      "image/png": "[encoded data removed]",
      "text/plain": [
       "<Figure size 432x288 with 1 Axes>"
      ]
     },
     "metadata": {
      "needs_background": "light"
     },
     "output_type": "display_data"
    }
   ],
   "source": [
    "#Create Scatter plot for Cloudiness vs Lat\n",
    "x_values = southernhem_df['Lat']\n",
    "y_values = southernhem_df['Cloudiness']\n",
    "plt.scatter(x_values,y_values)\n",
    "plt.title('City Latitude vs. Cloudiness (04/14/21)')\n",
    "plt.xlabel('Latitude')\n",
    "plt.ylabel('Cloudiness (%)')\n",
    "\n",
    "# Perform a linear regression on temperature vs. latitude\n",
    "(slope, intercept, rvalue, pvalue, stderr) = linregress(x_values, y_values)\n",
    "\n",
    "# Get regression values\n",
    "regress_values = x_values * slope + intercept\n",
    "\n",
    "# Create line equation string\n",
    "line_eq = \"y = \" + str(round(slope,2)) + \"x +\" + str(round(intercept,2))\n",
    "\n",
    "#Plot Linear regression\n",
    "plt.plot(x_values,regress_values,\"r-\")\n",
    "plt.annotate(line_eq,(-50,50),fontsize=10,color=\"red\")\n",
    "\n",
    "# Print r value\n",
    "print(f\"The r-value is: {rvalue**2}\")\n",
    "\n",
    "#Show plot\n",
    "plt.show()\n",
    "\n",
    "plt.savefig(\"Images/lat_vs_cloudi.png\")"
   ]
  },
  {
   "cell_type": "markdown",
   "metadata": {},
   "source": [
    "Looking at both of the graphs comparing Latitude and Cloudiness, you can see there is not much of a correlation. Both r-values are very low which means that the variables are not great at predicting each other."
   ]
  },
  {
   "cell_type": "markdown",
   "metadata": {},
   "source": [
    "####  Northern Hemisphere - Wind Speed (mph) vs. Latitude Linear Regression"
   ]
  },
  {
   "cell_type": "code",
   "execution_count": 25,
   "metadata": {},
   "outputs": [
    {
     "name": "stdout",
     "output_type": "stream",
     "text": [
      "The r-value is: 0.03953304769041333\n"
     ]
    },
    {
     "data": {
      "image/png": "[encoded data removed]",
      "text/plain": [
       "<Figure size 432x288 with 1 Axes>"
      ]
     },
     "metadata": {
      "needs_background": "light"
     },
     "output_type": "display_data"
    }
   ],
   "source": [
    "#Create Scatter plot for Wind vs Lat\n",
    "x_values = northernhem_df['Lat']\n",
    "y_values = northernhem_df['Wind Speed']\n",
    "plt.scatter(x_values,y_values)\n",
    "plt.title('City Latitude vs. Wind Speed (04/14/21)')\n",
    "plt.xlabel('Latitude')\n",
    "plt.ylabel('Wind Speed (mph)')\n",
    "\n",
    "# Perform a linear regression on temperature vs. latitude\n",
    "(slope, intercept, rvalue, pvalue, stderr) = linregress(x_values, y_values)\n",
    "\n",
    "# Get regression values\n",
    "regress_values = x_values * slope + intercept\n",
    "\n",
    "# Create line equation string\n",
    "line_eq = \"y = \" + str(round(slope,2)) + \"x +\" + str(round(intercept,2))\n",
    "\n",
    "#Plot Linear regression\n",
    "plt.plot(x_values,regress_values,\"r-\")\n",
    "plt.annotate(line_eq,(26,25),fontsize=10,color=\"red\")\n",
    "\n",
    "# Print r value\n",
    "print(f\"The r-value is: {rvalue**2}\")\n",
    "\n",
    "#Show plot\n",
    "plt.show()"
   ]
  },
  {
   "cell_type": "markdown",
   "metadata": {},
   "source": [
    "####  Southern Hemisphere - Wind Speed (mph) vs. Latitude Linear Regression"
   ]
  },
  {
   "cell_type": "code",
   "execution_count": 27,
   "metadata": {},
   "outputs": [
    {
     "name": "stdout",
     "output_type": "stream",
     "text": [
      "The r-value is: 0.10799752552506993\n"
     ]
    },
    {
     "data": {
      "image/png": "[encoded data removed]",
      "text/plain": [
       "<Figure size 432x288 with 1 Axes>"
      ]
     },
     "metadata": {
      "needs_background": "light"
     },
     "output_type": "display_data"
    }
   ],
   "source": [
    "#Create Scatter plot for Wind vs Lat\n",
    "x_values = southernhem_df['Lat']\n",
    "y_values = southernhem_df['Wind Speed']\n",
    "plt.scatter(x_values,y_values)\n",
    "plt.title('City Latitude vs. Wind Speed (04/14/21)')\n",
    "plt.xlabel('Latitude')\n",
    "plt.ylabel('Wind Speed (mph)')\n",
    "\n",
    "# Perform a linear regression on temperature vs. latitude\n",
    "(slope, intercept, rvalue, pvalue, stderr) = linregress(x_values, y_values)\n",
    "\n",
    "# Get regression values\n",
    "regress_values = x_values * slope + intercept\n",
    "\n",
    "# Create line equation string\n",
    "line_eq = \"y = \" + str(round(slope,2)) + \"x +\" + str(round(intercept,2))\n",
    "\n",
    "#Plot Linear regression\n",
    "plt.plot(x_values,regress_values,\"r-\")\n",
    "plt.annotate(line_eq,(-50,15),fontsize=10,color=\"red\")\n",
    "\n",
    "# Print r value\n",
    "print(f\"The r-value is: {rvalue**2}\")\n",
    "\n",
    "#Show plot\n",
    "plt.show()"
   ]
  },
  {
   "cell_type": "markdown",
   "metadata": {},
   "source": [
    "Looking at both of these graphs, I can see a slight correlation between latitude and wind speed. The first r-value is pretty low so the variables are not good for predicting each other. The second r-value is slightly higher but still low. "
   ]
  },
  {
   "cell_type": "code",
   "execution_count": null,
   "metadata": {},
   "outputs": [],
   "source": []
  }
 ],
 "metadata": {
  "anaconda-cloud": {},
  "kernel_info": {
   "name": "python3"
  },
  "kernelspec": {
   "display_name": "Python [conda env:PythonData] *",
   "language": "python",
   "name": "conda-env-PythonData-py"
  },
  "language_info": {
   "codemirror_mode": {
    "name": "ipython",
    "version": 3
   },
   "file_extension": ".py",
   "mimetype": "text/x-python",
   "name": "python",
   "nbconvert_exporter": "python",
   "pygments_lexer": "ipython3",
   "version": "3.6.10"
  },
  "latex_envs": {
   "LaTeX_envs_menu_present": true,
   "autoclose": false,
   "autocomplete": true,
   "bibliofile": "biblio.bib",
   "cite_by": "apalike",
   "current_citInitial": 1,
   "eqLabelWithNumbers": true,
   "eqNumInitial": 1,
   "hotkeys": {
    "equation": "Ctrl-E",
    "itemize": "Ctrl-I"
   },
   "labels_anchors": false,
   "latex_user_defs": false,
   "report_style_numbering": false,
   "user_envs_cfg": false
  },
  "nteract": {
   "version": "0.12.3"
  }
 },
 "nbformat": 4,
 "nbformat_minor": 2
}
